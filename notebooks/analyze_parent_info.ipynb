{
 "cells": [
  {
   "cell_type": "markdown",
   "id": "7710cb64",
   "metadata": {},
   "source": [
    "# get dataframe from file"
   ]
  },
  {
   "cell_type": "code",
   "execution_count": 100,
   "id": "79ed2224",
   "metadata": {},
   "outputs": [],
   "source": [
    "import pandas as pd \n",
    "import numpy as np \n",
    "\n",
    "transactions_df = pd.read_csv(\"/Users/test/Projects/level-up/summer-of-btc/mempool.csv\")"
   ]
  },
  {
   "cell_type": "markdown",
   "id": "6aeadaf6",
   "metadata": {},
   "source": [
    "# data cleaning"
   ]
  },
  {
   "cell_type": "code",
   "execution_count": 101,
   "id": "78c01177",
   "metadata": {},
   "outputs": [],
   "source": [
    "transactions_df.rename(columns=lambda x: x.strip(), inplace=True)\n",
    "\n",
    "def apply_parent_id_transformation(id_string): \n",
    "    if  pd.isna(id_string): \n",
    "        return []\n",
    "    return id_string.split(\";\")\n",
    "\n",
    "transactions_df[\"fee\"] = pd.to_numeric(transactions_df[\"fee\"])\n",
    "transactions_df[\"weight\"] = pd.to_numeric(transactions_df[\"weight\"])\n",
    "transactions_df[\"parents\"] = transactions_df[\"parents\"].apply(lambda x: apply_parent_id_transformation(x))"
   ]
  },
  {
   "cell_type": "markdown",
   "id": "e47a44a0",
   "metadata": {},
   "source": [
    "# more information on parents"
   ]
  },
  {
   "cell_type": "code",
   "execution_count": 106,
   "id": "2f836043",
   "metadata": {},
   "outputs": [
    {
     "name": "stdout",
     "output_type": "stream",
     "text": [
      "5214\n",
      "5087\n"
     ]
    }
   ],
   "source": [
    "def sanity_check(parent_indices, index, row): \n",
    "    greater_than = sum([1 if parent_index > index else 0 for parent_index in parent_indices])\n",
    "    lesser_than = sum([1 if parent_index < index else 0 for parent_index in parent_indices])\n",
    "    equal_to = sum([1 if parent_index == index else 0 for parent_index in parent_indices])\n",
    "    if greater_than > 0 and lesser_than > 0: \n",
    "        raise Exception(f\"parents on {index} {row['tx_id']} have parents both greater and lesser in index\" )\n",
    "    if equal_to > 0: \n",
    "        raise Exception(f\"circular index reference at {index} {row['tx_id']}\")\n",
    "\n",
    "def check_if_parent_later(df, index, row):\n",
    "    if row[\"total_parents\"] == 0:\n",
    "        return False\n",
    "    parents = row[\"parents\"]\n",
    "    \n",
    "    for parent in parents: \n",
    "        parent_indices = df.index[df['tx_id'] == parent].tolist()\n",
    "        assert len(parent_indices) == 1\n",
    "        sanity_check(parent_indices, index, row)\n",
    "        for parent_index in parent_indices: \n",
    "            if parent_index > index:\n",
    "                return True\n",
    "    return False\n",
    "\n",
    "def get_earliest_parent_index(df, parents): \n",
    "    if len(parents) == 0: \n",
    "        return -1\n",
    "    return min([df.index[df['tx_id'] == parent].tolist()[0] for parent in parents])\n",
    "\n",
    "\n",
    "transactions_df[\"total_parents\"] = transactions_df[\"parents\"].apply(lambda x: len(x))\n",
    "transactions_df[\"parent_later\"] = [check_if_parent_later(transactions_df, i, row) for i, row in transactions_df.iterrows()]\n",
    "transactions_df[\"earliest_parent_index\"] = transactions_df[\"parents\"].apply(lambda x: get_earliest_parent_index(transactions_df, x))\n",
    "\n",
    "filtered_transactions = transactions_df.drop(transactions_df[transactions_df.parent_later == True].index)\n",
    "print(len(transactions_df))\n",
    "print(len(filtered_transactions))\n",
    "filtered_transactions.index.name = \"original_index\"\n",
    "filtered_transactions.to_csv(\"/Users/test/Projects/level-up/summer-of-btc/earlier_parent_filtered_transtions.csv\")"
   ]
  },
  {
   "cell_type": "code",
   "execution_count": 130,
   "id": "f88ae475",
   "metadata": {},
   "outputs": [
    {
     "data": {
      "text/plain": [
       "1954364"
      ]
     },
     "execution_count": 130,
     "metadata": {},
     "output_type": "execute_result"
    }
   ],
   "source": []
  },
  {
   "cell_type": "code",
   "execution_count": null,
   "id": "ca57c85c",
   "metadata": {},
   "outputs": [],
   "source": []
  }
 ],
 "metadata": {
  "kernelspec": {
   "display_name": "Python 3",
   "language": "python",
   "name": "python3"
  },
  "language_info": {
   "codemirror_mode": {
    "name": "ipython",
    "version": 3
   },
   "file_extension": ".py",
   "mimetype": "text/x-python",
   "name": "python",
   "nbconvert_exporter": "python",
   "pygments_lexer": "ipython3",
   "version": "3.7.10"
  }
 },
 "nbformat": 4,
 "nbformat_minor": 5
}
