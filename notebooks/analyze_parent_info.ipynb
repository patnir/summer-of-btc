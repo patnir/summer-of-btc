{
 "cells": [
  {
   "cell_type": "markdown",
   "id": "7fa803be",
   "metadata": {},
   "source": [
    "# get dataframe from file"
   ]
  },
  {
   "cell_type": "code",
   "execution_count": 100,
   "id": "552afbec",
   "metadata": {},
   "outputs": [],
   "source": [
    "import pandas as pd \n",
    "import numpy as np \n",
    "\n",
    "transactions_df = pd.read_csv(\"/Users/test/Projects/level-up/summer-of-btc/mempool.csv\")"
   ]
  },
  {
   "cell_type": "markdown",
   "id": "b3831a1c",
   "metadata": {},
   "source": [
    "# data cleaning"
   ]
  },
  {
   "cell_type": "code",
   "execution_count": 101,
   "id": "5f730923",
   "metadata": {},
   "outputs": [],
   "source": [
    "transactions_df.rename(columns=lambda x: x.strip(), inplace=True)\n",
    "\n",
    "def apply_parent_id_transformation(id_string): \n",
    "    if  pd.isna(id_string): \n",
    "        return []\n",
    "    return id_string.split(\";\")\n",
    "\n",
    "transactions_df[\"fee\"] = pd.to_numeric(transactions_df[\"fee\"])\n",
    "transactions_df[\"weight\"] = pd.to_numeric(transactions_df[\"weight\"])\n",
    "transactions_df[\"parents\"] = transactions_df[\"parents\"].apply(lambda x: apply_parent_id_transformation(x))"
   ]
  },
  {
   "cell_type": "markdown",
   "id": "baf55cc0",
   "metadata": {},
   "source": [
    "# more information on parents"
   ]
  },
  {
   "cell_type": "code",
   "execution_count": 103,
   "id": "e49618ea",
   "metadata": {},
   "outputs": [
    {
     "name": "stdout",
     "output_type": "stream",
     "text": [
      "5214\n",
      "5087\n"
     ]
    }
   ],
   "source": [
    "def sanity_check(parent_indices, index, row): \n",
    "    greater_than = sum([1 if parent_index > index else 0 for parent_index in parent_indices])\n",
    "    lesser_than = sum([1 if parent_index < index else 0 for parent_index in parent_indices])\n",
    "    equal_to = sum([1 if parent_index == index else 0 for parent_index in parent_indices])\n",
    "    if greater_than > 0 and lesser_than > 0: \n",
    "        raise Exception(f\"parents on {index} {row['tx_id']} have parents both greater and lesser in index\" )\n",
    "    if equal_to > 0: \n",
    "        raise Exception(f\"circular index reference at {index} {row['tx_id']}\")\n",
    "\n",
    "def check_if_parent_later(df, index, row):\n",
    "    if row[\"total_parents\"] == 0:\n",
    "        return False\n",
    "    parents = row[\"parents\"]\n",
    "    \n",
    "    for parent in parents: \n",
    "        parent_indices = df.index[df['tx_id'] == parent].tolist()\n",
    "        assert len(parent_indices) == 1\n",
    "        sanity_check(parent_indices, index, row)\n",
    "        for parent_index in parent_indices: \n",
    "            if parent_index > index:\n",
    "                return True\n",
    "    return False\n",
    "\n",
    "def get_earliest_parent_index(df, parents): \n",
    "    if len(parents) == 0: \n",
    "        return len(df) * 2 # some arbitrary length greater than length of the list. not very elegant\n",
    "    return min([df.index[df['tx_id'] == parent].tolist()[0] for parent in parents])\n",
    "\n",
    "\n",
    "transactions_df[\"total_parents\"] = transactions_df[\"parents\"].apply(lambda x: len(x))\n",
    "transactions_df[\"parent_later\"] = [check_if_parent_later(transactions_df, i, row) for i, row in transactions_df.iterrows()]\n",
    "transactions_df[\"earliest_parent_index\"] = transactions_df[\"parents\"].apply(lambda x: get_earliest_parent_index(transactions_df, x))\n",
    "\n",
    "filtered_transactions = transactions_df.drop(transactions_df[transactions_df.parent_later == True].index)\n",
    "print(len(transactions_df))\n",
    "print(len(filtered_transactions))\n",
    "\n",
    "filtered_transactions.to_csv(\"/Users/test/Projects/level-up/summer-of-btc/earlier_parent_filtered_transtions.csv\")"
   ]
  },
  {
   "cell_type": "code",
   "execution_count": null,
   "id": "28ce84f9",
   "metadata": {},
   "outputs": [],
   "source": []
  }
 ],
 "metadata": {
  "kernelspec": {
   "display_name": "Python 3",
   "language": "python",
   "name": "python3"
  },
  "language_info": {
   "codemirror_mode": {
    "name": "ipython",
    "version": 3
   },
   "file_extension": ".py",
   "mimetype": "text/x-python",
   "name": "python",
   "nbconvert_exporter": "python",
   "pygments_lexer": "ipython3",
   "version": "3.7.10"
  }
 },
 "nbformat": 4,
 "nbformat_minor": 5
}
