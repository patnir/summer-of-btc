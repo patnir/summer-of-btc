{
 "cells": [
  {
   "cell_type": "markdown",
   "id": "2f445607",
   "metadata": {},
   "source": [
    "# get dataframe from file"
   ]
  },
  {
   "cell_type": "code",
   "execution_count": 37,
   "id": "49181dae",
   "metadata": {},
   "outputs": [],
   "source": [
    "import pandas as pd \n",
    "import numpy as np \n",
    "\n",
    "transactions_df = pd.read_csv(\"/Users/test/Projects/level-up/summer-of-btc/mempool.csv\")"
   ]
  },
  {
   "cell_type": "markdown",
   "id": "539d7a70",
   "metadata": {},
   "source": [
    "# data cleaning"
   ]
  },
  {
   "cell_type": "code",
   "execution_count": 38,
   "id": "61141685",
   "metadata": {},
   "outputs": [
    {
     "data": {
      "text/html": [
       "<div>\n",
       "<style scoped>\n",
       "    .dataframe tbody tr th:only-of-type {\n",
       "        vertical-align: middle;\n",
       "    }\n",
       "\n",
       "    .dataframe tbody tr th {\n",
       "        vertical-align: top;\n",
       "    }\n",
       "\n",
       "    .dataframe thead th {\n",
       "        text-align: right;\n",
       "    }\n",
       "</style>\n",
       "<table border=\"1\" class=\"dataframe\">\n",
       "  <thead>\n",
       "    <tr style=\"text-align: right;\">\n",
       "      <th></th>\n",
       "      <th>tx_id</th>\n",
       "      <th>fee</th>\n",
       "      <th>weight</th>\n",
       "      <th>parents</th>\n",
       "      <th>total_parents</th>\n",
       "    </tr>\n",
       "  </thead>\n",
       "  <tbody>\n",
       "    <tr>\n",
       "      <th>5209</th>\n",
       "      <td>e0b5d2fe598fccdd716df743323346da227dfc9d2a6c3e...</td>\n",
       "      <td>850</td>\n",
       "      <td>568</td>\n",
       "      <td>[]</td>\n",
       "      <td>0</td>\n",
       "    </tr>\n",
       "    <tr>\n",
       "      <th>5210</th>\n",
       "      <td>e33973618a9774aeb85548368efeaddb206ef206717e72...</td>\n",
       "      <td>1496</td>\n",
       "      <td>1488</td>\n",
       "      <td>[]</td>\n",
       "      <td>0</td>\n",
       "    </tr>\n",
       "    <tr>\n",
       "      <th>5211</th>\n",
       "      <td>88a8c7118ac82199523eb10670f49c8b7f5ac82d404907...</td>\n",
       "      <td>1121</td>\n",
       "      <td>900</td>\n",
       "      <td>[33c7c7bcb1cc07743fc3240cac6af31e4d4a8f535cae7...</td>\n",
       "      <td>1</td>\n",
       "    </tr>\n",
       "    <tr>\n",
       "      <th>5212</th>\n",
       "      <td>4c5b18c0870665958fc2a377e425b70f8d01f03395af72...</td>\n",
       "      <td>862</td>\n",
       "      <td>576</td>\n",
       "      <td>[]</td>\n",
       "      <td>0</td>\n",
       "    </tr>\n",
       "    <tr>\n",
       "      <th>5213</th>\n",
       "      <td>631dee801c00241fc61bccc56112cf7670ce7150f4c642...</td>\n",
       "      <td>850</td>\n",
       "      <td>568</td>\n",
       "      <td>[]</td>\n",
       "      <td>0</td>\n",
       "    </tr>\n",
       "  </tbody>\n",
       "</table>\n",
       "</div>"
      ],
      "text/plain": [
       "                                                  tx_id   fee  weight  \\\n",
       "5209  e0b5d2fe598fccdd716df743323346da227dfc9d2a6c3e...   850     568   \n",
       "5210  e33973618a9774aeb85548368efeaddb206ef206717e72...  1496    1488   \n",
       "5211  88a8c7118ac82199523eb10670f49c8b7f5ac82d404907...  1121     900   \n",
       "5212  4c5b18c0870665958fc2a377e425b70f8d01f03395af72...   862     576   \n",
       "5213  631dee801c00241fc61bccc56112cf7670ce7150f4c642...   850     568   \n",
       "\n",
       "                                                parents  total_parents  \n",
       "5209                                                 []              0  \n",
       "5210                                                 []              0  \n",
       "5211  [33c7c7bcb1cc07743fc3240cac6af31e4d4a8f535cae7...              1  \n",
       "5212                                                 []              0  \n",
       "5213                                                 []              0  "
      ]
     },
     "execution_count": 38,
     "metadata": {},
     "output_type": "execute_result"
    }
   ],
   "source": [
    "transactions_df.rename(columns=lambda x: x.strip(), inplace=True)\n",
    "\n",
    "def apply_parent_id_transformation(id_string): \n",
    "    if  pd.isna(id_string): \n",
    "        return []\n",
    "    return id_string.split(\";\")\n",
    "\n",
    "transactions_df[\"parents\"] = transactions_df[\"parents\"].apply(lambda x: apply_parent_id_transformation(x))\n",
    "transactions_df[\"total_parents\"] = transactions_df[\"parents\"].apply(lambda x: len(x))\n",
    "\n",
    "transactions_df.tail()"
   ]
  },
  {
   "cell_type": "code",
   "execution_count": null,
   "id": "8d098a1a",
   "metadata": {},
   "outputs": [],
   "source": []
  }
 ],
 "metadata": {
  "kernelspec": {
   "display_name": "Python 3",
   "language": "python",
   "name": "python3"
  },
  "language_info": {
   "codemirror_mode": {
    "name": "ipython",
    "version": 3
   },
   "file_extension": ".py",
   "mimetype": "text/x-python",
   "name": "python",
   "nbconvert_exporter": "python",
   "pygments_lexer": "ipython3",
   "version": "3.7.10"
  }
 },
 "nbformat": 4,
 "nbformat_minor": 5
}
