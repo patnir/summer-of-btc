{
 "cells": [
  {
   "cell_type": "markdown",
   "id": "7710cb64",
   "metadata": {},
   "source": [
    "# get dataframe from file"
   ]
  },
  {
   "cell_type": "code",
   "execution_count": 1,
   "id": "79ed2224",
   "metadata": {},
   "outputs": [],
   "source": [
    "import pandas as pd \n",
    "import numpy as np \n",
    "\n",
    "transactions_df = pd.read_csv(\"/Users/test/Projects/level-up/summer-of-btc/mempool.csv\")"
   ]
  },
  {
   "cell_type": "markdown",
   "id": "6aeadaf6",
   "metadata": {},
   "source": [
    "# data cleaning"
   ]
  },
  {
   "cell_type": "code",
   "execution_count": 2,
   "id": "78c01177",
   "metadata": {},
   "outputs": [],
   "source": [
    "transactions_df.rename(columns=lambda x: x.strip(), inplace=True)\n",
    "\n",
    "def apply_parent_id_transformation(id_string): \n",
    "    if  pd.isna(id_string): \n",
    "        return []\n",
    "    return id_string.split(\";\")\n",
    "\n",
    "transactions_df[\"fee\"] = pd.to_numeric(transactions_df[\"fee\"])\n",
    "transactions_df[\"weight\"] = pd.to_numeric(transactions_df[\"weight\"])\n",
    "transactions_df[\"parents\"] = transactions_df[\"parents\"].apply(lambda x: apply_parent_id_transformation(x))"
   ]
  },
  {
   "cell_type": "markdown",
   "id": "e47a44a0",
   "metadata": {},
   "source": [
    "# more information on parents"
   ]
  },
  {
   "cell_type": "code",
   "execution_count": 3,
   "id": "2f836043",
   "metadata": {},
   "outputs": [],
   "source": [
    "def sanity_check(parent_indices, index, row): \n",
    "    greater_than = sum([1 if parent_index > index else 0 for parent_index in parent_indices])\n",
    "    lesser_than = sum([1 if parent_index < index else 0 for parent_index in parent_indices])\n",
    "    equal_to = sum([1 if parent_index == index else 0 for parent_index in parent_indices])\n",
    "    if greater_than > 0 and lesser_than > 0: \n",
    "        raise Exception(f\"parents on {index} {row['tx_id']} have parents both greater and lesser in index\" )\n",
    "    if equal_to > 0: \n",
    "        raise Exception(f\"circular index reference at {index} {row['tx_id']}\")\n",
    "\n",
    "def check_if_parent_later(df, index, row):\n",
    "    if row[\"total_parents\"] == 0:\n",
    "        return False\n",
    "    return True # just totally ignoring transactions with unconfirmed parents\n",
    "\n",
    "#     parents = row[\"parents\"]\n",
    "    \n",
    "#     for parent in parents: \n",
    "#         parent_indices = df.index[df['tx_id'] == parent].tolist()\n",
    "#         assert len(parent_indices) == 1\n",
    "#         sanity_check(parent_indices, index, row)\n",
    "#         for parent_index in parent_indices: \n",
    "#             if parent_index > index:\n",
    "#                 return True\n",
    "#     return False\n",
    "\n",
    "def get_earliest_parent_index(df, parents): \n",
    "    if len(parents) == 0: \n",
    "        return -1\n",
    "    return min([df.index[df['tx_id'] == parent].tolist()[0] for parent in parents])\n",
    "\n",
    "def get_fee_weight_ratio(transaction): \n",
    "    return transaction[\"fee\"] / transaction[\"weight\"]\n",
    "\n",
    "transactions_df[\"total_parents\"] = transactions_df[\"parents\"].apply(lambda x: len(x))\n",
    "transactions_df[\"parent_later\"] = [check_if_parent_later(transactions_df, i, row) for i, row in transactions_df.iterrows()]\n",
    "transactions_df[\"earliest_parent_index\"] = transactions_df[\"parents\"].apply(lambda x: get_earliest_parent_index(transactions_df, x))\n",
    "transactions_df[\"fee-weight-ratio\"] = [get_fee_weight_ratio(x) for _, x in transactions_df.iterrows()]\n",
    "\n",
    "filtered_transactions = transactions_df.drop(transactions_df[transactions_df.parent_later == True].index)\n",
    "filtered_transactions[\"original_index\"] = filtered_transactions.index"
   ]
  },
  {
   "cell_type": "markdown",
   "id": "1cbe05d4",
   "metadata": {},
   "source": [
    "# Finding the most optimal set of transactions"
   ]
  },
  {
   "cell_type": "code",
   "execution_count": 4,
   "id": "ca57c85c",
   "metadata": {},
   "outputs": [],
   "source": [
    "filtered_transactions = filtered_transactions.sort_values(by=['fee-weight-ratio'], ascending=False)\n",
    "\n",
    "final_transactions = []\n",
    "current_weight = 0\n",
    "current_fees = 0\n",
    "for _, row in filtered_transactions.iterrows(): \n",
    "    if current_weight + row.weight > 4000000: \n",
    "        break \n",
    "    final_transactions.append((row.original_index, row.tx_id))\n",
    "    current_weight += row.weight\n",
    "    current_fees += row.fee\n",
    "    \n",
    "with open('/Users/test/Projects/level-up/summer-of-btc/unsorted_block_removing_unconfirmed_parents.txt', 'w') as file: \n",
    "    for i in final_transactions: \n",
    "        file.write(f\"{i[1]}\\n\")\n",
    "    \n",
    "final_transactions = sorted(final_transactions, key=lambda item: item[0])\n",
    "\n",
    "with open('/Users/test/Projects/level-up/summer-of-btc/block_removing_unconfirmed_parents.txt', 'w') as file: \n",
    "    for i in final_transactions: \n",
    "        file.write(f\"{i[1]}\\n\")"
   ]
  },
  {
   "cell_type": "code",
   "execution_count": null,
   "id": "b0e1e600",
   "metadata": {},
   "outputs": [],
   "source": []
  },
  {
   "cell_type": "code",
   "execution_count": null,
   "id": "e3f74039",
   "metadata": {},
   "outputs": [],
   "source": []
  }
 ],
 "metadata": {
  "kernelspec": {
   "display_name": "Python 3",
   "language": "python",
   "name": "python3"
  },
  "language_info": {
   "codemirror_mode": {
    "name": "ipython",
    "version": 3
   },
   "file_extension": ".py",
   "mimetype": "text/x-python",
   "name": "python",
   "nbconvert_exporter": "python",
   "pygments_lexer": "ipython3",
   "version": "3.7.10"
  }
 },
 "nbformat": 4,
 "nbformat_minor": 5
}
